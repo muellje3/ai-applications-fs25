{
 "cells": [
  {
   "attachments": {},
   "cell_type": "markdown",
   "id": "1e84aff8",
   "metadata": {},
   "source": [
    "# Apartment price prediction with sklearn"
   ]
  },
  {
   "cell_type": "markdown",
   "id": "d9ca506b",
   "metadata": {},
   "source": [
    "### Libraries and settings"
   ]
  },
  {
   "cell_type": "code",
   "execution_count": 9,
   "id": "3cc498a3",
   "metadata": {},
   "outputs": [],
   "source": [
    "# Libraries\n",
    "import numpy as np\n",
    "import pandas as pd\n",
    "import matplotlib.pyplot as plt\n",
    "from sklearn.ensemble import RandomForestRegressor\n",
    "from sklearn.linear_model import LinearRegression\n",
    "from sklearn.model_selection import train_test_split\n",
    "from sklearn.metrics import root_mean_squared_error\n",
    "import pickle"
   ]
  },
  {
   "cell_type": "markdown",
   "id": "514d3419",
   "metadata": {},
   "source": [
    "### Import the apartment data"
   ]
  },
  {
   "cell_type": "code",
   "execution_count": 10,
   "id": "fc8846ed",
   "metadata": {
    "scrolled": true
   },
   "outputs": [
    {
     "name": "stdout",
     "output_type": "stream",
     "text": [
      "(188, 21)\n"
     ]
    },
    {
     "data": {
      "text/html": [
       "<div>\n",
       "<style scoped>\n",
       "    .dataframe tbody tr th:only-of-type {\n",
       "        vertical-align: middle;\n",
       "    }\n",
       "\n",
       "    .dataframe tbody tr th {\n",
       "        vertical-align: top;\n",
       "    }\n",
       "\n",
       "    .dataframe thead th {\n",
       "        text-align: right;\n",
       "    }\n",
       "</style>\n",
       "<table border=\"1\" class=\"dataframe\">\n",
       "  <thead>\n",
       "    <tr style=\"text-align: right;\">\n",
       "      <th></th>\n",
       "      <th>bfs_number</th>\n",
       "      <th>rooms</th>\n",
       "      <th>area</th>\n",
       "      <th>price</th>\n",
       "      <th>postalcode</th>\n",
       "      <th>address</th>\n",
       "      <th>town</th>\n",
       "      <th>description_raw</th>\n",
       "      <th>bfs_name</th>\n",
       "      <th>pop</th>\n",
       "      <th>...</th>\n",
       "      <th>frg_pct</th>\n",
       "      <th>emp</th>\n",
       "      <th>tax_income</th>\n",
       "      <th>lat</th>\n",
       "      <th>lon</th>\n",
       "      <th>x</th>\n",
       "      <th>y</th>\n",
       "      <th>latitude</th>\n",
       "      <th>longitude</th>\n",
       "      <th>distance_to_hospital</th>\n",
       "    </tr>\n",
       "  </thead>\n",
       "  <tbody>\n",
       "    <tr>\n",
       "      <th>0</th>\n",
       "      <td>261</td>\n",
       "      <td>2.5</td>\n",
       "      <td>45</td>\n",
       "      <td>2520</td>\n",
       "      <td>8004</td>\n",
       "      <td>8004 Zürich</td>\n",
       "      <td>Zürich</td>\n",
       "      <td>«MÖBLIERT, TEMPORÄR: 2½ ZI-WOHNUNG IN ZÜRICH -...</td>\n",
       "      <td>Zürich</td>\n",
       "      <td>420217</td>\n",
       "      <td>...</td>\n",
       "      <td>32.458468</td>\n",
       "      <td>491193.0</td>\n",
       "      <td>85446</td>\n",
       "      <td>47.377140</td>\n",
       "      <td>8.515776</td>\n",
       "      <td>247925.203125</td>\n",
       "      <td>681344.9375</td>\n",
       "      <td>47.374449</td>\n",
       "      <td>8.541042</td>\n",
       "      <td>821.245610</td>\n",
       "    </tr>\n",
       "    <tr>\n",
       "      <th>1</th>\n",
       "      <td>261</td>\n",
       "      <td>2.5</td>\n",
       "      <td>48</td>\n",
       "      <td>3360</td>\n",
       "      <td>8004</td>\n",
       "      <td>8004 Zürich</td>\n",
       "      <td>Zürich</td>\n",
       "      <td>«MÖBLIERT: 2½ ZI-WOHNUNG IN ZÜRICH - KREIS 4»</td>\n",
       "      <td>Zürich</td>\n",
       "      <td>420217</td>\n",
       "      <td>...</td>\n",
       "      <td>32.458468</td>\n",
       "      <td>491193.0</td>\n",
       "      <td>85446</td>\n",
       "      <td>47.377140</td>\n",
       "      <td>8.515776</td>\n",
       "      <td>247925.203125</td>\n",
       "      <td>681344.9375</td>\n",
       "      <td>47.374449</td>\n",
       "      <td>8.541042</td>\n",
       "      <td>821.245610</td>\n",
       "    </tr>\n",
       "    <tr>\n",
       "      <th>2</th>\n",
       "      <td>261</td>\n",
       "      <td>2.5</td>\n",
       "      <td>50</td>\n",
       "      <td>2900</td>\n",
       "      <td>8004</td>\n",
       "      <td>8004 Zürich</td>\n",
       "      <td>Zürich</td>\n",
       "      <td>«Mitten im In-Quartier von Zürich»</td>\n",
       "      <td>Zürich</td>\n",
       "      <td>420217</td>\n",
       "      <td>...</td>\n",
       "      <td>32.458468</td>\n",
       "      <td>491193.0</td>\n",
       "      <td>85446</td>\n",
       "      <td>47.377140</td>\n",
       "      <td>8.515776</td>\n",
       "      <td>247925.203125</td>\n",
       "      <td>681344.9375</td>\n",
       "      <td>47.374449</td>\n",
       "      <td>8.541042</td>\n",
       "      <td>821.245610</td>\n",
       "    </tr>\n",
       "    <tr>\n",
       "      <th>3</th>\n",
       "      <td>261</td>\n",
       "      <td>1.0</td>\n",
       "      <td>10</td>\n",
       "      <td>1499</td>\n",
       "      <td>8004</td>\n",
       "      <td>8004 Zürich</td>\n",
       "      <td>Zürich</td>\n",
       "      <td>«Studio, Zürich Zentrum, unbefristet»</td>\n",
       "      <td>Zürich</td>\n",
       "      <td>420217</td>\n",
       "      <td>...</td>\n",
       "      <td>32.458468</td>\n",
       "      <td>491193.0</td>\n",
       "      <td>85446</td>\n",
       "      <td>47.377140</td>\n",
       "      <td>8.515776</td>\n",
       "      <td>247925.203125</td>\n",
       "      <td>681344.9375</td>\n",
       "      <td>47.374449</td>\n",
       "      <td>8.541042</td>\n",
       "      <td>821.245610</td>\n",
       "    </tr>\n",
       "    <tr>\n",
       "      <th>4</th>\n",
       "      <td>261</td>\n",
       "      <td>2.5</td>\n",
       "      <td>73</td>\n",
       "      <td>3460</td>\n",
       "      <td>8041</td>\n",
       "      <td>8041 Zürich</td>\n",
       "      <td>Zürich</td>\n",
       "      <td>«EXTRAVAGANT, MODERN, DIREKT AN DER SIHL!»</td>\n",
       "      <td>Zürich</td>\n",
       "      <td>420217</td>\n",
       "      <td>...</td>\n",
       "      <td>32.458468</td>\n",
       "      <td>491193.0</td>\n",
       "      <td>85446</td>\n",
       "      <td>47.322403</td>\n",
       "      <td>8.513797</td>\n",
       "      <td>241838.015625</td>\n",
       "      <td>681278.9375</td>\n",
       "      <td>47.374449</td>\n",
       "      <td>8.541042</td>\n",
       "      <td>821.245610</td>\n",
       "    </tr>\n",
       "    <tr>\n",
       "      <th>5</th>\n",
       "      <td>261</td>\n",
       "      <td>2.0</td>\n",
       "      <td>58</td>\n",
       "      <td>1825</td>\n",
       "      <td>8047</td>\n",
       "      <td>Letzigraben 236, 8047 Zürich</td>\n",
       "      <td>Zürich</td>\n",
       "      <td>«Ihre neues Zuhause in Zürich!»</td>\n",
       "      <td>Zürich</td>\n",
       "      <td>420217</td>\n",
       "      <td>...</td>\n",
       "      <td>32.458468</td>\n",
       "      <td>491193.0</td>\n",
       "      <td>85446</td>\n",
       "      <td>47.370766</td>\n",
       "      <td>8.492476</td>\n",
       "      <td>247192.890625</td>\n",
       "      <td>679595.0000</td>\n",
       "      <td>47.370787</td>\n",
       "      <td>8.492474</td>\n",
       "      <td>609.260414</td>\n",
       "    </tr>\n",
       "    <tr>\n",
       "      <th>6</th>\n",
       "      <td>261</td>\n",
       "      <td>4.5</td>\n",
       "      <td>170</td>\n",
       "      <td>6600</td>\n",
       "      <td>8005</td>\n",
       "      <td>Limmatstrasse 260, 8005 Zürich</td>\n",
       "      <td>Zürich</td>\n",
       "      <td>«Exklusiv! Grosszügig! Wohngenuss pur!»</td>\n",
       "      <td>Zürich</td>\n",
       "      <td>420217</td>\n",
       "      <td>...</td>\n",
       "      <td>32.458468</td>\n",
       "      <td>491193.0</td>\n",
       "      <td>85446</td>\n",
       "      <td>47.389133</td>\n",
       "      <td>8.525842</td>\n",
       "      <td>249269.078125</td>\n",
       "      <td>682086.6250</td>\n",
       "      <td>47.389120</td>\n",
       "      <td>8.525808</td>\n",
       "      <td>1109.412641</td>\n",
       "    </tr>\n",
       "    <tr>\n",
       "      <th>7</th>\n",
       "      <td>261</td>\n",
       "      <td>3.5</td>\n",
       "      <td>146</td>\n",
       "      <td>5550</td>\n",
       "      <td>8005</td>\n",
       "      <td>Limmatstrasse 260, 8005 Zürich</td>\n",
       "      <td>Zürich</td>\n",
       "      <td>«Exklusive, lichtdurchflutete 3.5-Zimmerwohnun...</td>\n",
       "      <td>Zürich</td>\n",
       "      <td>420217</td>\n",
       "      <td>...</td>\n",
       "      <td>32.458468</td>\n",
       "      <td>491193.0</td>\n",
       "      <td>85446</td>\n",
       "      <td>47.389133</td>\n",
       "      <td>8.525842</td>\n",
       "      <td>249269.078125</td>\n",
       "      <td>682086.6250</td>\n",
       "      <td>47.389120</td>\n",
       "      <td>8.525808</td>\n",
       "      <td>1109.412641</td>\n",
       "    </tr>\n",
       "    <tr>\n",
       "      <th>8</th>\n",
       "      <td>261</td>\n",
       "      <td>2.0</td>\n",
       "      <td>46</td>\n",
       "      <td>1475</td>\n",
       "      <td>8050</td>\n",
       "      <td>Güetliweg 5, 8050 Zürich</td>\n",
       "      <td>Zürich</td>\n",
       "      <td>«An zentraler, ruhiger Lage, gepflegte Umgebun...</td>\n",
       "      <td>Zürich</td>\n",
       "      <td>420217</td>\n",
       "      <td>...</td>\n",
       "      <td>32.458468</td>\n",
       "      <td>491193.0</td>\n",
       "      <td>85446</td>\n",
       "      <td>47.412838</td>\n",
       "      <td>8.530470</td>\n",
       "      <td>251909.375000</td>\n",
       "      <td>682399.3750</td>\n",
       "      <td>47.412819</td>\n",
       "      <td>8.530451</td>\n",
       "      <td>1010.223160</td>\n",
       "    </tr>\n",
       "    <tr>\n",
       "      <th>9</th>\n",
       "      <td>261</td>\n",
       "      <td>1.5</td>\n",
       "      <td>35</td>\n",
       "      <td>1740</td>\n",
       "      <td>8037</td>\n",
       "      <td>Lehenstrasse 51, 8037 Zürich</td>\n",
       "      <td>Zürich</td>\n",
       "      <td>«1.5-Zimmer-Wohnung an ruhiger, zentraler Lage»</td>\n",
       "      <td>Zürich</td>\n",
       "      <td>420217</td>\n",
       "      <td>...</td>\n",
       "      <td>32.458468</td>\n",
       "      <td>491193.0</td>\n",
       "      <td>85446</td>\n",
       "      <td>47.396530</td>\n",
       "      <td>8.523355</td>\n",
       "      <td>250088.859375</td>\n",
       "      <td>681887.4375</td>\n",
       "      <td>47.396533</td>\n",
       "      <td>8.523371</td>\n",
       "      <td>304.532991</td>\n",
       "    </tr>\n",
       "  </tbody>\n",
       "</table>\n",
       "<p>10 rows × 21 columns</p>\n",
       "</div>"
      ],
      "text/plain": [
       "   bfs_number  rooms  area  price  postalcode                         address  \\\n",
       "0         261    2.5    45   2520        8004                     8004 Zürich   \n",
       "1         261    2.5    48   3360        8004                     8004 Zürich   \n",
       "2         261    2.5    50   2900        8004                     8004 Zürich   \n",
       "3         261    1.0    10   1499        8004                     8004 Zürich   \n",
       "4         261    2.5    73   3460        8041                     8041 Zürich   \n",
       "5         261    2.0    58   1825        8047    Letzigraben 236, 8047 Zürich   \n",
       "6         261    4.5   170   6600        8005  Limmatstrasse 260, 8005 Zürich   \n",
       "7         261    3.5   146   5550        8005  Limmatstrasse 260, 8005 Zürich   \n",
       "8         261    2.0    46   1475        8050        Güetliweg 5, 8050 Zürich   \n",
       "9         261    1.5    35   1740        8037    Lehenstrasse 51, 8037 Zürich   \n",
       "\n",
       "      town                                    description_raw bfs_name  \\\n",
       "0   Zürich  «MÖBLIERT, TEMPORÄR: 2½ ZI-WOHNUNG IN ZÜRICH -...   Zürich   \n",
       "1   Zürich      «MÖBLIERT: 2½ ZI-WOHNUNG IN ZÜRICH - KREIS 4»   Zürich   \n",
       "2   Zürich                 «Mitten im In-Quartier von Zürich»   Zürich   \n",
       "3   Zürich              «Studio, Zürich Zentrum, unbefristet»   Zürich   \n",
       "4   Zürich         «EXTRAVAGANT, MODERN, DIREKT AN DER SIHL!»   Zürich   \n",
       "5   Zürich                    «Ihre neues Zuhause in Zürich!»   Zürich   \n",
       "6   Zürich            «Exklusiv! Grosszügig! Wohngenuss pur!»   Zürich   \n",
       "7   Zürich  «Exklusive, lichtdurchflutete 3.5-Zimmerwohnun...   Zürich   \n",
       "8   Zürich  «An zentraler, ruhiger Lage, gepflegte Umgebun...   Zürich   \n",
       "9   Zürich    «1.5-Zimmer-Wohnung an ruhiger, zentraler Lage»   Zürich   \n",
       "\n",
       "      pop  ...    frg_pct       emp  tax_income        lat       lon  \\\n",
       "0  420217  ...  32.458468  491193.0       85446  47.377140  8.515776   \n",
       "1  420217  ...  32.458468  491193.0       85446  47.377140  8.515776   \n",
       "2  420217  ...  32.458468  491193.0       85446  47.377140  8.515776   \n",
       "3  420217  ...  32.458468  491193.0       85446  47.377140  8.515776   \n",
       "4  420217  ...  32.458468  491193.0       85446  47.322403  8.513797   \n",
       "5  420217  ...  32.458468  491193.0       85446  47.370766  8.492476   \n",
       "6  420217  ...  32.458468  491193.0       85446  47.389133  8.525842   \n",
       "7  420217  ...  32.458468  491193.0       85446  47.389133  8.525842   \n",
       "8  420217  ...  32.458468  491193.0       85446  47.412838  8.530470   \n",
       "9  420217  ...  32.458468  491193.0       85446  47.396530  8.523355   \n",
       "\n",
       "               x            y   latitude  longitude  distance_to_hospital  \n",
       "0  247925.203125  681344.9375  47.374449   8.541042            821.245610  \n",
       "1  247925.203125  681344.9375  47.374449   8.541042            821.245610  \n",
       "2  247925.203125  681344.9375  47.374449   8.541042            821.245610  \n",
       "3  247925.203125  681344.9375  47.374449   8.541042            821.245610  \n",
       "4  241838.015625  681278.9375  47.374449   8.541042            821.245610  \n",
       "5  247192.890625  679595.0000  47.370787   8.492474            609.260414  \n",
       "6  249269.078125  682086.6250  47.389120   8.525808           1109.412641  \n",
       "7  249269.078125  682086.6250  47.389120   8.525808           1109.412641  \n",
       "8  251909.375000  682399.3750  47.412819   8.530451           1010.223160  \n",
       "9  250088.859375  681887.4375  47.396533   8.523371            304.532991  \n",
       "\n",
       "[10 rows x 21 columns]"
      ]
     },
     "execution_count": 10,
     "metadata": {},
     "output_type": "execute_result"
    }
   ],
   "source": [
    "# Read and select variables\n",
    "df_orig = pd.read_csv(\"cleaned_apartment_data_hospital(1).csv\", sep=\",\", encoding='utf-8')\n",
    "\n",
    "# Remove missing values\n",
    "df = df_orig.dropna()\n",
    "# Remove duplicates\n",
    "df = df.drop_duplicates()\n",
    "\n",
    "print(df.shape)\n",
    "df.head(10)"
   ]
  },
  {
   "cell_type": "code",
   "execution_count": 11,
   "id": "0cdf851d",
   "metadata": {},
   "outputs": [
    {
     "data": {
      "text/plain": [
       "Index(['bfs_number', 'rooms', 'area', 'price', 'postalcode', 'address', 'town',\n",
       "       'description_raw', 'bfs_name', 'pop', 'pop_dens', 'frg_pct', 'emp',\n",
       "       'tax_income', 'lat', 'lon', 'x', 'y', 'latitude', 'longitude',\n",
       "       'distance_to_hospital'],\n",
       "      dtype='object')"
      ]
     },
     "execution_count": 11,
     "metadata": {},
     "output_type": "execute_result"
    }
   ],
   "source": [
    "# Meaning of variables:\n",
    "# bfs_number: official municipality id\n",
    "# bfs_name: official municipality name\n",
    "# pop: number of residents (=population)\n",
    "# pop_dens: population density (pop per km2)\n",
    "# frg_pct: percentage foreigners\n",
    "# emp: numer of employees\n",
    "\n",
    "df.columns"
   ]
  },
  {
   "cell_type": "markdown",
   "id": "62d8d06c",
   "metadata": {},
   "source": [
    "### Train/Test splitting"
   ]
  },
  {
   "cell_type": "code",
   "execution_count": 12,
   "id": "4b096afe",
   "metadata": {},
   "outputs": [],
   "source": [
    "# Create train and test samples\n",
    "X_train, X_test, y_train, y_test = train_test_split(df[['rooms', 'area', 'pop', 'pop_dens', 'frg_pct',\n",
    "                                                        'emp', 'tax_income', 'distance_to_hospital']], \n",
    "                                                         df['price'], \n",
    "                                                        test_size=0.20, \n",
    "                                                        random_state=42)"
   ]
  },
  {
   "cell_type": "markdown",
   "id": "1ec39ee0",
   "metadata": {},
   "source": [
    "<hr >\n",
    "\n",
    "### Training the models\n",
    "\n",
    "#### Questions\n",
    "- What does the score represent? \n",
    "- How is the root mean squared error calculated?\n",
    "- How good are the model performing? 1=bad, 10=perfect\n",
    "- Is the LinearRegression model overfitting or underfitting?\n",
    "- Is the RandomForestRegressor overfitting or underfitting?\n"
   ]
  },
  {
   "cell_type": "code",
   "execution_count": 13,
   "id": "581471a2",
   "metadata": {},
   "outputs": [
    {
     "name": "stdout",
     "output_type": "stream",
     "text": [
      "Train score:  0.6198586792062926\n",
      "Test score:  0.533099268369563\n",
      "Train RMSE:  971.7897643202946\n",
      "Test RMSE:  1094.0533222039505\n"
     ]
    }
   ],
   "source": [
    "# train linear_model = LinearRegression()\n",
    "linear_model = LinearRegression()\n",
    "\n",
    "# Fit the model\n",
    "linear_model.fit(X_train, y_train)\n",
    "print(\"Train score: \", linear_model.score(X_train, y_train))\n",
    "print(\"Test score: \", linear_model.score(X_test, y_test))\n",
    "\n",
    "print(\"Train RMSE: \", root_mean_squared_error(y_train, linear_model.predict(X_train)))\n",
    "print(\"Test RMSE: \", root_mean_squared_error(y_test, linear_model.predict(X_test)))\n",
    " "
   ]
  },
  {
   "cell_type": "code",
   "execution_count": 14,
   "id": "e88abd75",
   "metadata": {},
   "outputs": [
    {
     "name": "stdout",
     "output_type": "stream",
     "text": [
      "Train score:  0.9201648077510556\n",
      "Test score:  0.46201485526441155\n",
      "Train RMSE:  445.34539758334387\n",
      "Test RMSE:  1174.3873211510797\n"
     ]
    }
   ],
   "source": [
    "# train random_forest_model = RandomForestRegressor()\n",
    "random_forest_model = RandomForestRegressor(random_state=42)\n",
    "\n",
    "# Fit the model\n",
    "random_forest_model.fit(X_train, y_train)\n",
    "print(\"Train score: \", random_forest_model.score(X_train, y_train))\n",
    "print(\"Test score: \", random_forest_model.score(X_test, y_test))\n",
    "\n",
    "print(\"Train RMSE: \", root_mean_squared_error(y_train, random_forest_model.predict(X_train)))\n",
    "print(\"Test RMSE: \", root_mean_squared_error(y_test, random_forest_model.predict(X_test)))"
   ]
  },
  {
   "cell_type": "markdown",
   "id": "f47d36fb",
   "metadata": {},
   "source": [
    "<hr >"
   ]
  },
  {
   "cell_type": "markdown",
   "id": "047d5483",
   "metadata": {},
   "source": [
    "### Random Forest feature importance"
   ]
  },
  {
   "cell_type": "code",
   "execution_count": 15,
   "id": "0e709a3a",
   "metadata": {},
   "outputs": [
    {
     "name": "stdout",
     "output_type": "stream",
     "text": [
      "['area' 'distance_to_hospital' 'rooms' 'tax_income' 'emp' 'pop_dens' 'pop'\n",
      " 'frg_pct']\n",
      "[0.57440345 0.13112664 0.07391137 0.06098664 0.05011598 0.04909301\n",
      " 0.03962278 0.02074013]\n"
     ]
    },
    {
     "data": {
      "text/plain": [
       "<Axes: ylabel='features'>"
      ]
     },
     "execution_count": 15,
     "metadata": {},
     "output_type": "execute_result"
    },
    {
     "data": {
      "image/png": "[encoded data removed]",
      "text/plain": [
       "<Figure size 600x300 with 1 Axes>"
      ]
     },
     "metadata": {},
     "output_type": "display_data"
    }
   ],
   "source": [
    "cols = random_forest_model.feature_names_in_\n",
    "\n",
    "# Derive feature importance from random forest\n",
    "importances = random_forest_model.feature_importances_\n",
    "std         = np.std([tree.feature_importances_ for tree in random_forest_model.estimators_], axis=0)\n",
    "indices     = np.argsort(importances)[::-1]\n",
    "\n",
    "# Print col-names and importances-values\n",
    "print( cols[indices] )\n",
    "print( importances[indices] )\n",
    "\n",
    "# Barplot with feature importance\n",
    "df_fi = pd.DataFrame({'features':cols,'importances': importances})\n",
    "df_fi.sort_values('importances', inplace=True)\n",
    "df_fi.plot(kind='barh', \n",
    "           y='importances',\n",
    "           x='features', \n",
    "           color='darkred', \n",
    "           figsize=(6,3))"
   ]
  },
  {
   "cell_type": "markdown",
   "id": "6293334c",
   "metadata": {},
   "source": [
    "### PKL Datei"
   ]
  },
  {
   "cell_type": "code",
   "execution_count": 16,
   "id": "780c3de5",
   "metadata": {},
   "outputs": [],
   "source": [
    "with open('random_forest_regression_extended.pkl', 'wb') as file:\n",
    "    pickle.dump(random_forest_model, file)"
   ]
  },
  {
   "cell_type": "markdown",
   "id": "141a7b40",
   "metadata": {},
   "source": [
    "### Calculate the residuals"
   ]
  },
  {
   "cell_type": "code",
   "execution_count": 17,
   "id": "2f36c652",
   "metadata": {},
   "outputs": [],
   "source": [
    "# make predictions\n",
    "y_train_predict = random_forest_model.predict(X_train)\n",
    "residuals = y_train - y_train_predict"
   ]
  },
  {
   "cell_type": "code",
   "execution_count": 18,
   "id": "92f3cffc",
   "metadata": {},
   "outputs": [
    {
     "data": {
      "image/png": "[encoded data removed]",
      "text/plain": [
       "<Figure size 1000x600 with 1 Axes>"
      ]
     },
     "metadata": {},
     "output_type": "display_data"
    }
   ],
   "source": [
    "# Calculate residuals\n",
    "\n",
    "plt.figure(figsize=(10, 6))\n",
    "plt.scatter(y_train, residuals, alpha=0.5)\n",
    "plt.axhline(y=0, color='r', linestyle='--')\n",
    "plt.xlabel('Actual Prices')\n",
    "plt.ylabel('Residuals')\n",
    "plt.title('Residuals vs Actual Prices')\n",
    "plt.show()"
   ]
  },
  {
   "cell_type": "code",
   "execution_count": 19,
   "id": "f1cb8d25",
   "metadata": {},
   "outputs": [
    {
     "data": {
      "image/png": "[encoded data removed]",
      "text/plain": [
       "<Figure size 800x400 with 1 Axes>"
      ]
     },
     "metadata": {},
     "output_type": "display_data"
    }
   ],
   "source": [
    "# Plot histogram of residuals\n",
    "fig = plt.figure( figsize=(8,4))\n",
    "n, bins, patches = plt.hist(x=residuals, \n",
    "                            bins=20, \n",
    "                            color='blue',\n",
    "                            alpha=0.5\n",
    "                   )\n",
    "\n",
    "# Set labels\n",
    "plt.xlabel('residuals', fontsize=10, labelpad=10)\n",
    "plt.ylabel('frequency', fontsize=10, labelpad=10)\n",
    "plt.title('Histogram of model residuals', fontsize=12, pad=10)\n",
    "\n",
    "plt.show()"
   ]
  },
  {
   "cell_type": "markdown",
   "id": "5302ad72",
   "metadata": {},
   "source": [
    "### Error Analysis\n",
    "\n",
    "Analyse the predictions. See which towns have the largest error."
   ]
  },
  {
   "cell_type": "code",
   "execution_count": 20,
   "id": "f5d0e965",
   "metadata": {},
   "outputs": [
    {
     "name": "stdout",
     "output_type": "stream",
     "text": [
      "     rooms  area     pop     pop_dens    frg_pct       emp  tax_income  \\\n",
      "35     7.0   180  420217  4778.994655  32.458468  491193.0       85446   \n",
      "101    3.5   100  113173  1662.597326  24.535004   73339.0       70966   \n",
      "107    2.5    91  113173  1662.597326  24.535004   73339.0       70966   \n",
      "75     2.5    60  420217  4778.994655  32.458468  491193.0       85446   \n",
      "96     3.5   102  113173  1662.597326  24.535004   73339.0       70966   \n",
      "\n",
      "     distance_to_hospital  recidual (error)  price  predicted_price  \n",
      "35             821.245610            328.22   6300          6628.22  \n",
      "101            789.081712            127.85   2700          2572.15  \n",
      "107            985.394238            152.25   2115          2267.25  \n",
      "75             821.245610            243.42   2780          2536.58  \n",
      "96             862.386601            301.09   3290          2988.91  \n"
     ]
    }
   ],
   "source": [
    "# get all predictions for the training set.\n",
    "y_train_predict = random_forest_model.predict(X_train)\n",
    "df_with_residual = pd.DataFrame(X_train, columns=X_train.columns, copy=True)\n",
    "df_with_residual['recidual (error)'] = np.abs(y_train_predict - y_train)\n",
    "df_with_residual['price'] = y_train\n",
    "df_with_residual['predicted_price'] = y_train_predict\n",
    "print(df_with_residual.head())\n",
    "# Add text, postalcode and town name\n",
    "# we use join instead of merge, because we 'join' on the index column and do not perform a merge using a specific column\n",
    "df_with_residual = df_with_residual.join(df[['description_raw', 'bfs_name', 'postalcode', 'town']])"
   ]
  },
  {
   "cell_type": "code",
   "execution_count": 21,
   "id": "00d6b175",
   "metadata": {},
   "outputs": [
    {
     "data": {
      "text/plain": [
       "pop     bfs_name     \n",
       "420217  Zürich           10\n",
       "113173  Winterthur        2\n",
       "1316    Rheinau           1\n",
       "13067   Zollikon          1\n",
       "4840    Oetwil am See     1\n",
       "dtype: int64"
      ]
     },
     "execution_count": 21,
     "metadata": {},
     "output_type": "execute_result"
    }
   ],
   "source": [
    "# check which location has the largest errors.\n",
    "df_with_residual[(df_with_residual['recidual (error)'] > 500)].groupby(['pop', 'bfs_name']).size().sort_values(ascending=False)"
   ]
  },
  {
   "cell_type": "code",
   "execution_count": 22,
   "id": "2f849770",
   "metadata": {},
   "outputs": [],
   "source": [
    "\n",
    "df_with_residual[(df_with_residual['recidual (error)'] > 500)]['description_raw'].to_csv('data_with_large_residuals.csv', \n",
    "          sep=\",\", \n",
    "          encoding='utf-8',\n",
    "          index=False)"
   ]
  }
 ],
 "metadata": {
  "kernelspec": {
   "display_name": "Python 3",
   "language": "python",
   "name": "python3"
  },
  "language_info": {
   "codemirror_mode": {
    "name": "ipython",
    "version": 3
   },
   "file_extension": ".py",
   "mimetype": "text/x-python",
   "name": "python",
   "nbconvert_exporter": "python",
   "pygments_lexer": "ipython3",
   "version": "3.12.1"
  }
 },
 "nbformat": 4,
 "nbformat_minor": 5
}
